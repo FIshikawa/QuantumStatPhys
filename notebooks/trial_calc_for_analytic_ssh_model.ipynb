{
 "cells": [
  {
   "cell_type": "code",
   "execution_count": 143,
   "metadata": {},
   "outputs": [],
   "source": [
    "import numpy as np\n",
    "import matplotlib.pyplot as plt\n",
    "import matplotlib.cm as cm"
   ]
  },
  {
   "cell_type": "markdown",
   "metadata": {},
   "source": [
    "# Parameters define"
   ]
  },
  {
   "cell_type": "code",
   "execution_count": 148,
   "metadata": {},
   "outputs": [],
   "source": [
    "params = {}\n",
    "params['N_chain'] = 1001\n",
    "params['N'] = params['N_chain'] + 1\n",
    "params['t'] = 1\n",
    "params['delta'] = 0.5\n",
    "params['t_a'] = params['t'] + params['delta']\n",
    "params['t_b'] = params['t'] - params['delta']\n",
    "params['epsilon_d'] = 0.0\n",
    "params['g'] = 1.0"
   ]
  },
  {
   "cell_type": "markdown",
   "metadata": {},
   "source": [
    "# Define site vectors"
   ]
  },
  {
   "cell_type": "code",
   "execution_count": 149,
   "metadata": {},
   "outputs": [
    {
     "name": "stdout",
     "output_type": "stream",
     "text": [
      "[[1. 0. 0. ... 0. 0. 0.]\n",
      " [0. 1. 0. ... 0. 0. 0.]\n",
      " [0. 0. 1. ... 0. 0. 0.]\n",
      " ...\n",
      " [0. 0. 0. ... 1. 0. 0.]\n",
      " [0. 0. 0. ... 0. 1. 0.]\n",
      " [0. 0. 0. ... 0. 0. 1.]]\n"
     ]
    }
   ],
   "source": [
    "site_vect = np.zeros([params['N'],params['N']])\n",
    "\n",
    "for i in range(params['N']):\n",
    "    site_vect[i] = np.zeros(params['N'])\n",
    "    site_vect[i][i] = 1.0\n",
    "print(site_vect)"
   ]
  },
  {
   "cell_type": "markdown",
   "metadata": {},
   "source": [
    "# T shape isotropic chain"
   ]
  },
  {
   "cell_type": "code",
   "execution_count": 150,
   "metadata": {},
   "outputs": [],
   "source": [
    "H_T_shape = np.zeros([params['N'],params['N']])\n",
    "\n",
    "# chain with periodic condi\n",
    "for i in range(params['N_chain']):\n",
    "    now_site = i \n",
    "    neighbor = (i + 1) % params['N_chain']\n",
    "    hopping_term = - params['t'] * np.outer(site_vect[now_site], site_vect[neighbor])\n",
    "    H_T_shape += hopping_term + hopping_term.transpose()\n",
    "\n",
    "# dot\n",
    "center_site = params['N_chain'] // 2\n",
    "dot_site = params['N']-1\n",
    "hopping_term = - params['g'] * np.outer(site_vect[center_site],site_vect[dot_site])\n",
    "onsite_potential = params['epsilon_d'] * np.outer(site_vect[dot_site],site_vect[dot_site])\n",
    "H_T_shape += hopping_term + hopping_term.transpose() + onsite_potential "
   ]
  },
  {
   "cell_type": "code",
   "execution_count": 151,
   "metadata": {},
   "outputs": [
    {
     "name": "stdout",
     "output_type": "stream",
     "text": [
      "[[ 0. -1.  0. ...  0. -1.  0.]\n",
      " [-1.  0. -1. ...  0.  0.  0.]\n",
      " [ 0. -1.  0. ...  0.  0.  0.]\n",
      " ...\n",
      " [ 0.  0.  0. ...  0. -1.  0.]\n",
      " [-1.  0.  0. ... -1.  0.  0.]\n",
      " [ 0.  0.  0. ...  0.  0.  0.]]\n"
     ]
    }
   ],
   "source": [
    "print(H_T_shape)"
   ]
  },
  {
   "cell_type": "code",
   "execution_count": 152,
   "metadata": {},
   "outputs": [],
   "source": [
    "energy_numerical = np.linalg.eigvals(H_T_shape)"
   ]
  },
  {
   "cell_type": "code",
   "execution_count": 153,
   "metadata": {},
   "outputs": [],
   "source": [
    "energy_numerical = np.sort(energy_numerical)"
   ]
  },
  {
   "cell_type": "code",
   "execution_count": 154,
   "metadata": {},
   "outputs": [
    {
     "data": {
      "image/png": "[encoded data removed]",
      "text/plain": [
       "<Figure size 432x288 with 1 Axes>"
      ]
     },
     "metadata": {},
     "output_type": "display_data"
    }
   ],
   "source": [
    "fig, ax = plt.subplots()\n",
    "ax.plot(energy_numerical)\n",
    "ax.set_xlabel('index')\n",
    "ax.set_ylabel('energy')\n",
    "ax.grid('both')"
   ]
  },
  {
   "cell_type": "code",
   "execution_count": 155,
   "metadata": {},
   "outputs": [
    {
     "name": "stdout",
     "output_type": "stream",
     "text": [
      "analytical energy_boc : 2.0581710272714924\n",
      "numerical boc : -2.058171027271482, 2.0581710272714817\n",
      "band top, bottm : -1.9999899907746803, 1.9999901501133255\n"
     ]
    }
   ],
   "source": [
    "# analytical BOC\n",
    "energy_boc = np.sqrt(2 * params['t']**2 + np.sqrt(4 * params['t']**2 + params['g']**2))\n",
    "print('analytical energy_boc : {}'.format(energy_boc))\n",
    "print('numerical boc : {}, {}'.format(energy_numerical[0],energy_numerical[-1]))\n",
    "print('band top, bottm : {}, {}'.format(energy_numerical[1],energy_numerical[-2]))"
   ]
  },
  {
   "cell_type": "markdown",
   "metadata": {},
   "source": [
    "# pure SSH model"
   ]
  },
  {
   "cell_type": "code",
   "execution_count": null,
   "metadata": {},
   "outputs": [],
   "source": [
    "# check delta \n",
    "num_points = 6\n",
    "delta_list = np.zeros(num_points)\n",
    "energy_list = np.zeros([num_points,params['N']])\n",
    "for point in range(num_points):\n",
    "    delta_list[point] = 0.5 - 0.2 * point\n",
    "    params['delta'] = delta_list[point]\n",
    "    params['t_a'] = params['t'] + params['delta']\n",
    "    params['t_b'] = params['t'] - params['delta']\n",
    "\n",
    "    H_ssh = np.zeros([params['N'],params['N']])\n",
    "\n",
    "    # chain\n",
    "    for i in range(params['N_chain']-1):\n",
    "        now_site = i \n",
    "        neighbor = i + 1\n",
    "        hopping_strength = 0\n",
    "        if i % 2 == 0:\n",
    "            hopping_strength = params['t_a']\n",
    "        else:\n",
    "            hopping_strength = params['t_b']\n",
    "        hopping_term = - hopping_strength * np.outer(site_vect[now_site], site_vect[neighbor])\n",
    "        H_ssh += hopping_term + hopping_term.transpose()\n",
    "\n",
    "    energy_numerical_ssh = np.linalg.eigvals(H_ssh)\n",
    "    energy_numerical_ssh = np.sort(energy_numerical_ssh)\n",
    "    energy_list[point] = energy_numerical_ssh"
   ]
  },
  {
   "cell_type": "code",
   "execution_count": null,
   "metadata": {},
   "outputs": [],
   "source": [
    "fig, ax = plt.subplots()\n",
    "for point in range(num_points):\n",
    "    x = np.linspace(1,params['N']+1,params['N'])\n",
    "    ax.scatter(x,energy_list[point],\n",
    "               color=cm.tab10(point),\n",
    "               label='delta : {}'.format(delta_list[point]))\n",
    "ax.set_xlabel('index')\n",
    "ax.set_ylabel('energy')\n",
    "ax.grid('both')"
   ]
  },
  {
   "cell_type": "code",
   "execution_count": null,
   "metadata": {},
   "outputs": [],
   "source": [
    "fig, ax = plt.subplots()\n",
    "for point in range(num_points):\n",
    "    for i in range(params['N']):\n",
    "        ax.scatter(delta_list[point],energy_list[point][i],\n",
    "                   color=cm.tab10(point))\n",
    "ax.set_xlabel('delta')\n",
    "ax.set_ylabel('energy')\n",
    "ax.grid('both')"
   ]
  },
  {
   "cell_type": "code",
   "execution_count": null,
   "metadata": {},
   "outputs": [],
   "source": []
  },
  {
   "cell_type": "code",
   "execution_count": null,
   "metadata": {},
   "outputs": [],
   "source": []
  }
 ],
 "metadata": {
  "kernelspec": {
   "display_name": "pytorch_env",
   "language": "python",
   "name": "pytorch_env"
  },
  "language_info": {
   "codemirror_mode": {
    "name": "ipython",
    "version": 3
   },
   "file_extension": ".py",
   "mimetype": "text/x-python",
   "name": "python",
   "nbconvert_exporter": "python",
   "pygments_lexer": "ipython3",
   "version": "3.6.5"
  }
 },
 "nbformat": 4,
 "nbformat_minor": 2
}
